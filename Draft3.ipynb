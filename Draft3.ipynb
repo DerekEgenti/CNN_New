{
 "cells": [
  {
   "cell_type": "markdown",
   "id": "6b765961",
   "metadata": {},
   "source": [
    "start tomorow please!!!!"
   ]
  },
  {
   "cell_type": "code",
   "execution_count": null,
   "id": "33b42968",
   "metadata": {},
   "outputs": [],
   "source": []
  }
 ],
 "metadata": {
  "language_info": {
   "name": "python"
  }
 },
 "nbformat": 4,
 "nbformat_minor": 5
}
