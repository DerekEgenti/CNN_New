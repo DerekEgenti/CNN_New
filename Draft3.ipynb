{
 "cells": [
  {
   "cell_type": "markdown",
   "id": "1bb6e7d6",
   "metadata": {},
   "source": [
    "Layers of a CNN\n",
    "\n",
    "1. Input Layer - Shape = [batch_size, image_width, image_height, channels]\n",
    "batch_size - random sample from the original training set thats used during applying stochastic gradient descent.\n",
    "channels - number of color channels of the input images. This number could be 3 for RGB images or 1 for binary images.\n",
    "2. Convolutional Layer - "
   ]
  },
  {
   "cell_type": "code",
   "execution_count": null,
   "id": "33b42968",
   "metadata": {},
   "outputs": [],
   "source": []
  }
 ],
 "metadata": {
  "language_info": {
   "name": "python"
  }
 },
 "nbformat": 4,
 "nbformat_minor": 5
}
