{
 "cells": [
  {
   "cell_type": "markdown",
   "metadata": {},
   "source": [
    " 1. Step-by-step CNN Code (in Python with TensorFlow/Keras)"
   ]
  },
  {
   "cell_type": "code",
   "execution_count": 6,
   "metadata": {},
   "outputs": [],
   "source": [
    "import tensorflow as tf\n",
    "from tensorflow.keras import datasets, layers, models\n",
    "import matplotlib.pyplot as plt\n",
    "\n",
    "# 1. Load dataset (CIFAR-10: 60,000 images in 10 classes)\n",
    "(train_images, train_labels), (test_images, test_labels) = datasets.cifar10.load_data()\n",
    "\n",
    "# Normalize pixel values to between 0 and 1\n",
    "train_images, test_images = train_images / 255.0, test_images / 255.0\n",
    "\n",
    "# We normalize pixel values to between 0 and 1 to \n",
    "\n",
    "#Makes training more stable.\n",
    "\n",
    "#Helps the network learn faster and more effectively.\n",
    "\n",
    "#Reduces the risk of exploding/vanishing gradients.\n",
    "\n",
    "#Ensures consistency across different datasets or models."
   ]
  },
  {
   "cell_type": "markdown",
   "metadata": {},
   "source": [
    "2. CNN Model Architecture with Explanations"
   ]
  },
  {
   "cell_type": "code",
   "execution_count": 7,
   "metadata": {},
   "outputs": [
    {
     "name": "stderr",
     "output_type": "stream",
     "text": [
      "c:\\Users\\Derek Egenti\\anaconda3\\lib\\site-packages\\keras\\src\\layers\\convolutional\\base_conv.py:113: UserWarning: Do not pass an `input_shape`/`input_dim` argument to a layer. When using Sequential models, prefer using an `Input(shape)` object as the first layer in the model instead.\n",
      "  super().__init__(activity_regularizer=activity_regularizer, **kwargs)\n"
     ]
    }
   ],
   "source": [
    "# 2. Create the CNN model\n",
    "model = models.Sequential()\n",
    "\n",
    "# --- Convolutional Layer 1 ---\n",
    "# Applies 32 filters of size 3x3\n",
    "model.add(layers.Conv2D(32, (3, 3), activation='relu', input_shape=(32, 32, 3)))\n",
    "# --- Pooling Layer 1 ---\n",
    "model.add(layers.MaxPooling2D((2, 2)))\n",
    "\n",
    "# --- Convolutional Layer 2 ---\n",
    "model.add(layers.Conv2D(64, (3, 3), activation='relu'))\n",
    "# --- Pooling Layer 2 ---\n",
    "model.add(layers.MaxPooling2D((2, 2)))\n",
    "\n",
    "# --- Convolutional Layer 3 ---\n",
    "model.add(layers.Conv2D(64, (3, 3), activation='relu'))\n",
    "\n",
    "# --- Flattening the 3D output to 1D ---\n",
    "model.add(layers.Flatten())\n",
    "\n",
    "# --- Fully Connected Layer ---\n",
    "model.add(layers.Dense(64, activation='relu'))\n",
    "\n",
    "# --- Output Layer: 10 neurons for 10 classes ---\n",
    "#model.add(layers.Dense(10))\n",
    "model.add(layers.Dense(10, activation='softmax'))"
   ]
  },
  {
   "cell_type": "markdown",
   "metadata": {},
   "source": [
    "3. Concepts Explained\n",
    "\n",
    "\n",
    "🔹 Filter/Kernel:\n",
    "A small matrix (like 3x3 or 5x5) that slides over the input image to extract features like edges, textures, etc. Think of it as a detector.\n",
    "\n",
    "🔹 Stride:\n",
    "The number of pixels the filter moves at each step. A stride of 1 means move one pixel at a time.\n",
    "\n",
    "🔹 Padding:\n",
    "Used to control the spatial size of the output. If you want to keep the size the same as input, you use 'same' padding (adds zeros around the border).\n",
    "\n",
    "🔹 Convolutional Layer:\n",
    "Applies multiple filters across the image to produce feature maps, each highlighting specific features.\n",
    "\n",
    "🔹 Pooling Layer:\n",
    "Reduces the dimensions (downsampling) while keeping the most important info. Common is MaxPooling, which takes the max value in a window (e.g., 2x2).\n",
    "\n",
    "🔹 Abstraction:\n",
    "As the network goes deeper, it learns increasingly abstract features. Early layers might detect edges, later ones can detect complex patterns like faces or objects.\n",
    "\n",
    "🔹 Fully Connected Layers:\n",
    "Standard neural network layers that interpret the high-level features and map them to class scores.\n",
    "\n",
    "🔹 Output Layer:\n",
    "Final layer that outputs class scores (logits). Usually followed by Softmax for classification to interpret as probabilities.\n",
    "\n",
    "🔹 Activation Function:\n",
    "An activation function is a mathematical function applied after each neuron (or filter output) to decide whether it should be \"activated\" (i.e., passed forward) or not.\n",
    "\n",
    "Uses\n",
    " Introduce Non-Linearity\n",
    "Without activation functions, neural networks are just linear transformations, no matter how many layers you stack.\n",
    "\n",
    "Real-world data is non-linear (images, speech, language), so we need non-linear activation functions to learn complex patterns.\n",
    "\n",
    " Control Information Flow\n",
    "They help the network decide which information is important.\n",
    "\n",
    "Some activations zero-out or squash less useful signals (e.g., ReLU zeros out negative values).\n",
    "\n",
    " Enable Learning of Complex Representations\n",
    "They help the network build hierarchical abstractions, e.g.:\n",
    "\n",
    "Early layers: detect edges\n",
    "\n",
    "Mid layers: detect shapes\n",
    "\n",
    "Late layers: detect faces or objects"
   ]
  },
  {
   "cell_type": "markdown",
   "metadata": {},
   "source": [
    "4. Training the CNN"
   ]
  },
  {
   "cell_type": "markdown",
   "metadata": {},
   "source": [
    "Training Steps:\n",
    "Forward pass: Input image flows through the layers, generating predictions.\n",
    "\n",
    "Loss calculation: Difference between predicted and actual labels.\n",
    "\n",
    "Backpropagation: Gradients are calculated and used to update weights.\n",
    "\n",
    "Optimizer: Adam (Adaptive Moment Estimation) updates weights efficiently."
   ]
  },
  {
   "cell_type": "code",
   "execution_count": 10,
   "metadata": {},
   "outputs": [],
   "source": [
    "# Import and Define the optimizer\n",
    "\n",
    "from keras.optimizers import RMSprop,Adam"
   ]
  },
  {
   "cell_type": "code",
   "execution_count": 12,
   "metadata": {},
   "outputs": [],
   "source": [
    "optimizer = Adam(learning_rate=0.001, beta_1=0.9, beta_2=0.999)"
   ]
  },
  {
   "cell_type": "code",
   "execution_count": 13,
   "metadata": {},
   "outputs": [
    {
     "name": "stdout",
     "output_type": "stream",
     "text": [
      "Epoch 1/10\n"
     ]
    },
    {
     "name": "stderr",
     "output_type": "stream",
     "text": [
      "c:\\Users\\Derek Egenti\\anaconda3\\lib\\site-packages\\keras\\src\\backend\\tensorflow\\nn.py:717: UserWarning: \"`sparse_categorical_crossentropy` received `from_logits=True`, but the `output` argument was produced by a Softmax activation and thus does not represent logits. Was this intended?\n",
      "  output, from_logits = _get_logits(\n"
     ]
    },
    {
     "name": "stdout",
     "output_type": "stream",
     "text": [
      "\u001b[1m1563/1563\u001b[0m \u001b[32m━━━━━━━━━━━━━━━━━━━━\u001b[0m\u001b[37m\u001b[0m \u001b[1m38s\u001b[0m 21ms/step - accuracy: 0.3503 - loss: 1.7669 - val_accuracy: 0.5534 - val_loss: 1.2647\n",
      "Epoch 2/10\n",
      "\u001b[1m1563/1563\u001b[0m \u001b[32m━━━━━━━━━━━━━━━━━━━━\u001b[0m\u001b[37m\u001b[0m \u001b[1m28s\u001b[0m 18ms/step - accuracy: 0.5771 - loss: 1.1960 - val_accuracy: 0.6048 - val_loss: 1.1265\n",
      "Epoch 3/10\n",
      "\u001b[1m1563/1563\u001b[0m \u001b[32m━━━━━━━━━━━━━━━━━━━━\u001b[0m\u001b[37m\u001b[0m \u001b[1m30s\u001b[0m 19ms/step - accuracy: 0.6548 - loss: 0.9844 - val_accuracy: 0.6616 - val_loss: 0.9932\n",
      "Epoch 4/10\n",
      "\u001b[1m1563/1563\u001b[0m \u001b[32m━━━━━━━━━━━━━━━━━━━━\u001b[0m\u001b[37m\u001b[0m \u001b[1m33s\u001b[0m 21ms/step - accuracy: 0.7008 - loss: 0.8612 - val_accuracy: 0.6722 - val_loss: 0.9602\n",
      "Epoch 5/10\n",
      "\u001b[1m1563/1563\u001b[0m \u001b[32m━━━━━━━━━━━━━━━━━━━━\u001b[0m\u001b[37m\u001b[0m \u001b[1m29s\u001b[0m 18ms/step - accuracy: 0.7298 - loss: 0.7790 - val_accuracy: 0.5943 - val_loss: 1.2609\n",
      "Epoch 6/10\n",
      "\u001b[1m1563/1563\u001b[0m \u001b[32m━━━━━━━━━━━━━━━━━━━━\u001b[0m\u001b[37m\u001b[0m \u001b[1m28s\u001b[0m 18ms/step - accuracy: 0.7576 - loss: 0.7073 - val_accuracy: 0.6917 - val_loss: 0.9250\n",
      "Epoch 7/10\n",
      "\u001b[1m1563/1563\u001b[0m \u001b[32m━━━━━━━━━━━━━━━━━━━━\u001b[0m\u001b[37m\u001b[0m \u001b[1m29s\u001b[0m 18ms/step - accuracy: 0.7770 - loss: 0.6424 - val_accuracy: 0.6938 - val_loss: 0.9192\n",
      "Epoch 8/10\n",
      "\u001b[1m1563/1563\u001b[0m \u001b[32m━━━━━━━━━━━━━━━━━━━━\u001b[0m\u001b[37m\u001b[0m \u001b[1m34s\u001b[0m 22ms/step - accuracy: 0.7940 - loss: 0.5953 - val_accuracy: 0.7113 - val_loss: 0.8977\n",
      "Epoch 9/10\n",
      "\u001b[1m1563/1563\u001b[0m \u001b[32m━━━━━━━━━━━━━━━━━━━━\u001b[0m\u001b[37m\u001b[0m \u001b[1m27s\u001b[0m 17ms/step - accuracy: 0.8082 - loss: 0.5547 - val_accuracy: 0.6888 - val_loss: 1.0066\n",
      "Epoch 10/10\n",
      "\u001b[1m1563/1563\u001b[0m \u001b[32m━━━━━━━━━━━━━━━━━━━━\u001b[0m\u001b[37m\u001b[0m \u001b[1m28s\u001b[0m 18ms/step - accuracy: 0.8247 - loss: 0.5095 - val_accuracy: 0.7078 - val_loss: 0.9647\n"
     ]
    }
   ],
   "source": [
    "# 3. Compile the model\n",
    "model.compile(\n",
    "              loss=tf.keras.losses.SparseCategoricalCrossentropy(from_logits=True),\n",
    "              metrics=['accuracy'])\n",
    "\n",
    "# 4. Train the model\n",
    "history = model.fit(train_images, train_labels, epochs=10, \n",
    "                    validation_data=(test_images, test_labels))"
   ]
  },
  {
   "cell_type": "markdown",
   "metadata": {},
   "source": [
    "5. Testing the CNN\n",
    "\n",
    "This checks how well the trained model generalizes to unseen data."
   ]
  },
  {
   "cell_type": "code",
   "execution_count": 14,
   "metadata": {},
   "outputs": [
    {
     "name": "stdout",
     "output_type": "stream",
     "text": [
      "313/313 - 3s - 8ms/step - accuracy: 0.7078 - loss: 0.9647\n",
      "\n",
      "Test accuracy: 0.7077999711036682\n"
     ]
    }
   ],
   "source": [
    "# 5. Evaluate the model on test data\n",
    "test_loss, test_acc = model.evaluate(test_images, test_labels, verbose=2)\n",
    "print(f'\\nTest accuracy: {test_acc}')"
   ]
  },
  {
   "cell_type": "code",
   "execution_count": 15,
   "metadata": {},
   "outputs": [
    {
     "data": {
      "image/png": "[encoded data removed]",
      "text/plain": [
       "<Figure size 640x480 with 1 Axes>"
      ]
     },
     "metadata": {},
     "output_type": "display_data"
    }
   ],
   "source": [
    "# Plot the loss and accuracy curves for training and validation \n",
    "plt.plot(history.history['val_loss'], color='b', label=\"loss\")\n",
    "plt.title(\"Test Loss\")\n",
    "plt.xlabel(\"Number of Epochs\")\n",
    "plt.ylabel(\"Loss\")\n",
    "plt.legend()\n",
    "plt.show()"
   ]
  },
  {
   "cell_type": "markdown",
   "metadata": {},
   "source": [
    "6. Predicting New Images\n",
    "\n",
    "To use the model for new images"
   ]
  }
 ],
 "metadata": {
  "kernelspec": {
   "display_name": "base",
   "language": "python",
   "name": "python3"
  },
  "language_info": {
   "codemirror_mode": {
    "name": "ipython",
    "version": 3
   },
   "file_extension": ".py",
   "mimetype": "text/x-python",
   "name": "python",
   "nbconvert_exporter": "python",
   "pygments_lexer": "ipython3",
   "version": "3.9.13"
  }
 },
 "nbformat": 4,
 "nbformat_minor": 2
}
